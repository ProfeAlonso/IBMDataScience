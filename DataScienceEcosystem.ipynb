{
 "cells": [
  {
   "cell_type": "markdown",
   "id": "9636f5f8-8746-4208-83c3-8be8453b701e",
   "metadata": {},
   "source": [
    "# Data Science Tools and Ecosystem \n"
   ]
  },
  {
   "cell_type": "markdown",
   "id": "01387661-f7dd-4f43-ae7a-c4fac208fd86",
   "metadata": {},
   "source": [
    "In this notebook, Data Science Tools and Ecosystem are summarized.\n",
    "\n",
    "**Objectives:**\n",
    "\n",
    "- List popular languages for Data Science\n",
    "- Identify commonly used libraries in Data Science\n",
    "- Understand open-source development environments for Data Science\n",
    "- Convert units and perform basic arithmetic operations in Python\n",
    "- Practice creating markdown and code cells in Jupyter Notebook\n"
   ]
  },
  {
   "cell_type": "markdown",
   "id": "9505c38f-86ac-43f6-935e-638429dec2c2",
   "metadata": {},
   "source": [
    "Some of the popular languages that Data Scientists use are:"
   ]
  },
  {
   "cell_type": "markdown",
   "id": "35c71389-d157-4dbd-8da0-f194210b1c43",
   "metadata": {},
   "source": [
    "1. **Python** – Widely popular for data science, Python offers extensive libraries such as Pandas, NumPy, and Scikit-Learn, as well as visualization tools like Matplotlib and Seaborn.\n",
    "\n",
    "2. **R** – Known for its statistical and graphical capabilities, R is commonly used for data analysis and visualization. It has packages like ggplot2, dply\n"
   ]
  },
  {
   "cell_type": "markdown",
   "id": "c6cf8bfe-0525-4f87-8e31-36494b3b7a54",
   "metadata": {},
   "source": [
    "Some of the commonly used libraries used by Data Scientists include:"
   ]
  },
  {
   "cell_type": "markdown",
   "id": "d5dcbfd7-89e8-4a9a-9a35-828ff85ec923",
   "metadata": {},
   "source": [
    "---\n",
    "\n",
    "1. **Pandas** – A Python library for data manipulation and analysis, providing data structures and functions needed to work with structured data seamlessly.\n",
    "\n",
    "2. **NumPy** – A fundamental library for numerical computing in Python, used for handling arrays, matrices, and a wide variety of mathematical operations.\n",
    "\n",
    "3. **Scikit-Learn** – A widely used Python library for machine learning, offering tools for data mining, data analysis, and building predictive models.\n",
    "\n",
    "Additional libraries include **TensorFlow** and **Keras** for deep learning, and **Matplotlib** and **Seaborn** for data visualization.\n"
   ]
  },
  {
   "cell_type": "markdown",
   "id": "5738a095-87c6-4356-adc3-0f8cb7eabc8d",
   "metadata": {},
   "source": [
    "## Data Science Tools"
   ]
  },
  {
   "cell_type": "markdown",
   "id": "9e76c600-8fbe-4867-8e67-3b501079776c",
   "metadata": {},
   "source": [
    "| Tool                  | Description                                                                                                                                            |\n",
    "|-----------------------|--------------------------------------------------------------------------------------------------------------------------------------------------------|\n",
    "| **Jupyter Notebook**  | An open-source web application that allows for creating and sharing documents with live code, equations, visualizations, and narrative text. Widely used for data cleaning, analysis, and machine learning. |\n",
    "| **RStudio**           | An integrated development environment (IDE) for R, providing tools for writing code, visualizing data, and developing applications. It supports both R and Python. |\n",
    "| **VS Code**           | A versatile code editor from Microsoft with extensions for Python, R, and other languages, making it a popular choice for data science projects. It integrates well with Jupyter Notebooks and Git. |\n"
   ]
  },
  {
   "cell_type": "markdown",
   "id": "c2f8cbfb-1f51-4eb3-8420-06ec9ce58f7c",
   "metadata": {},
   "source": [
    "### Below are a few examples of evaluating arithmetic expressions in Python.\n"
   ]
  },
  {
   "cell_type": "code",
   "execution_count": 15,
   "id": "88e3ff6c-1d1b-4f07-a4b5-e69d47991983",
   "metadata": {},
   "outputs": [
    {
     "data": {
      "text/plain": [
       "3.3333333333333335"
      ]
     },
     "execution_count": 15,
     "metadata": {},
     "output_type": "execute_result"
    }
   ],
   "source": [
    "# This will convert 200 minutes to hours by dividing by 60\n",
    "200 / 60"
   ]
  },
  {
   "cell_type": "code",
   "execution_count": 22,
   "id": "85d5431a-54c8-4f28-83f9-d26ac1bcecfd",
   "metadata": {},
   "outputs": [
    {
     "data": {
      "text/plain": [
       "17"
      ]
     },
     "execution_count": 22,
     "metadata": {},
     "output_type": "execute_result"
    }
   ],
   "source": [
    "#This is a simple arithmetic expression to multiply thed add integers. \n",
    "(3*4)+5\n"
   ]
  },
  {
   "cell_type": "markdown",
   "id": "3366a512-067d-4182-832f-119c7088b4cf",
   "metadata": {},
   "source": [
    "## Autor\n",
    "\n",
    "Alonso Becerra\n"
   ]
  },
  {
   "cell_type": "code",
   "execution_count": null,
   "id": "469ae460-ae7e-464e-b3ad-7e23a793cf83",
   "metadata": {},
   "outputs": [],
   "source": []
  }
 ],
 "metadata": {
  "kernelspec": {
   "display_name": "Python 3 (ipykernel)",
   "language": "python",
   "name": "python3"
  },
  "language_info": {
   "codemirror_mode": {
    "name": "ipython",
    "version": 3
   },
   "file_extension": ".py",
   "mimetype": "text/x-python",
   "name": "python",
   "nbconvert_exporter": "python",
   "pygments_lexer": "ipython3",
   "version": "3.12.7"
  }
 },
 "nbformat": 4,
 "nbformat_minor": 5
}
